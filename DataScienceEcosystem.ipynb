{
 "cells": [
  {
   "cell_type": "markdown",
   "id": "1c78c7bc-76e9-4ebb-ab1e-2e048a9dd17d",
   "metadata": {},
   "source": [
    "Data Science Tools And Ecosystem\n"
   ]
  },
  {
   "cell_type": "markdown",
   "id": "e593645b-0aa6-49e2-96a7-eb79d4616bb8",
   "metadata": {},
   "source": [
    "In this notebook, Data Science Tools and Ecosystem are summarized.\n"
   ]
  },
  {
   "cell_type": "markdown",
   "id": "0a1a0a68-f15f-4262-a9c9-c0d234479b87",
   "metadata": {
    "tags": []
   },
   "source": [
    "Objectives:\n",
    "\n",
    "*Languages for data science\n",
    "\n",
    "*Libraries for data science\n",
    "\n",
    "*Application Programming Interfaces\n",
    "\n",
    "*Jupyter Architecture\n",
    "\n"
   ]
  },
  {
   "cell_type": "markdown",
   "id": "170c9494-d60b-4633-bd59-3f938885599a",
   "metadata": {
    "tags": []
   },
   "source": [
    "Some of the popular languages that Data Scientists use are:\n",
    "1. Python\n",
    "2. R\n",
    "3. Javascript"
   ]
  },
  {
   "cell_type": "markdown",
   "id": "746ad369-9a17-4c71-b881-867fbd35fd77",
   "metadata": {},
   "source": [
    "Some of the commonly used libraries used by Data Scientists include:\n",
    "1. Panda\n",
    "2. Numpy\n",
    "3. Matplotlib"
   ]
  },
  {
   "cell_type": "markdown",
   "id": "4d93ca65-32f6-4fdd-8861-5b2b72ca8d32",
   "metadata": {
    "tags": []
   },
   "source": [
    "| Data Science Tools     |\n",
    "|------------------------|\n",
    "| Jupyter Notebook       |\n",
    "| RStudio                |\n",
    "| VS Code with Python    |\n"
   ]
  },
  {
   "cell_type": "markdown",
   "id": "7eb8f857-a541-4433-907e-4b981bd9421e",
   "metadata": {
    "tags": []
   },
   "source": [
    "Below are a few examples of evaluating arithmetic expressions in Python;\n",
    "\n",
    "\n",
    "1+1=2 1-1=0 1*1=1"
   ]
  },
  {
   "cell_type": "code",
   "execution_count": 4,
   "id": "360b148b-003c-47b9-a6c8-8cf71e228cd1",
   "metadata": {
    "tags": []
   },
   "outputs": [
    {
     "data": {
      "text/plain": [
       "17"
      ]
     },
     "execution_count": 4,
     "metadata": {},
     "output_type": "execute_result"
    }
   ],
   "source": [
    "# This a simple arithmetic expression to mutiply then add integers\n",
    "\n",
    "(3*4)+5"
   ]
  },
  {
   "cell_type": "code",
   "execution_count": 6,
   "id": "fe10d96f-8f6b-4259-a5d6-a47931360f72",
   "metadata": {
    "tags": []
   },
   "outputs": [
    {
     "data": {
      "text/plain": [
       "3.3333333333333335"
      ]
     },
     "execution_count": 6,
     "metadata": {},
     "output_type": "execute_result"
    }
   ],
   "source": [
    "# This will convert 200 minutes to hours by diving by 60\n",
    "\n",
    "200/60"
   ]
  },
  {
   "cell_type": "markdown",
   "id": "99da7de1-3f9b-45a7-84fb-7b0ba7e0b5dc",
   "metadata": {},
   "source": [
    "Author\n",
    "\n",
    "\n",
    "Anthony Opoku"
   ]
  },
  {
   "cell_type": "code",
   "execution_count": null,
   "id": "d1539832-8583-4fad-a302-5b61f8890e4a",
   "metadata": {},
   "outputs": [],
   "source": []
  }
 ],
 "metadata": {
  "kernelspec": {
   "display_name": "Python",
   "language": "python",
   "name": "conda-env-python-py"
  },
  "language_info": {
   "codemirror_mode": {
    "name": "ipython",
    "version": 3
   },
   "file_extension": ".py",
   "mimetype": "text/x-python",
   "name": "python",
   "nbconvert_exporter": "python",
   "pygments_lexer": "ipython3",
   "version": "3.7.12"
  }
 },
 "nbformat": 4,
 "nbformat_minor": 5
}
